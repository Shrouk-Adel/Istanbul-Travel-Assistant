{
 "cells": [
  {
   "cell_type": "code",
   "execution_count": 1,
   "metadata": {},
   "outputs": [
    {
     "data": {
      "text/plain": [
       "True"
      ]
     },
     "execution_count": 1,
     "metadata": {},
     "output_type": "execute_result"
    }
   ],
   "source": [
    "import os \n",
    "from dotenv import load_dotenv\n",
    "load_dotenv()"
   ]
  },
  {
   "cell_type": "code",
   "execution_count": 2,
   "metadata": {},
   "outputs": [],
   "source": [
    "os.environ['LangChain_API_Key']=os.getenv('LangChain_API_Key')\n",
    "groq_api_key =os.getenv('Groq_API_Key')\n",
    "os.environ['TAVILY_API_KEY'] =os.getenv('TAVILY_API_KEY')"
   ]
  },
  {
   "cell_type": "markdown",
   "metadata": {},
   "source": [
    "### Indexing "
   ]
  },
  {
   "cell_type": "code",
   "execution_count": 3,
   "metadata": {},
   "outputs": [],
   "source": [
    "from langchain.text_splitter import RecursiveCharacterTextSplitter\n",
    "from langchain_ollama.embeddings import OllamaEmbeddings\n",
    "from langchain_community.vectorstores import Chroma\n",
    "from langchain_community.document_loaders import PyPDFLoader\n",
    "\n",
    "# List of PDF file paths\n",
    "urls = [\n",
    "    r\"E:\\Generative AI_LLMS\\LangChain\\RAG\\RAG_From_Scratch\\Adaptive_RAG\\Data\\istanbul-city-guide.pdf\",\n",
    "    r\"E:\\Generative AI_LLMS\\LangChain\\RAG\\RAG_From_Scratch\\Adaptive_RAG\\Data\\istanbul-city-guide.pdf\"\n",
    "]\n",
    "\n",
    "# Load PDFs and flatten the list\n",
    "documents = []\n",
    "for url in urls:\n",
    "    documents.extend(PyPDFLoader(url).load())  # Ensure we get a flat list of Document objects\n",
    "\n",
    "# Text splitter\n",
    "splitter = RecursiveCharacterTextSplitter.from_tiktoken_encoder(chunk_size=500, chunk_overlap=0)\n",
    "docs = splitter.split_documents(documents)  # No more AttributeError!\n",
    "\n",
    "# Chroma vector store\n",
    "vectorstore = Chroma.from_documents(\n",
    "    documents=docs,\n",
    "    embedding=OllamaEmbeddings(model='nomic-embed-text'),\n",
    "    persist_directory=\"./chroma_db\"\n",
    ")\n",
    "\n",
    "# # Retriever\n",
    "# retriever = vectorstore.as_retriever(k=10)\n",
    "\n",
    "# # Test Retrieval\n",
    "# query = \"I want to visit resturants in this city \"\n",
    "# retrieved_docs = retriever.get_relevant_documents(query)\n",
    "\n"
   ]
  },
  {
   "cell_type": "code",
   "execution_count": 4,
   "metadata": {},
   "outputs": [
    {
     "data": {
      "text/plain": [
       "[Document(metadata={'creationdate': '2008-11-21T14:19:15+00:00', 'creator': 'Adobe InDesign CS2 (4.0)', 'moddate': '2016-02-08T11:59:25+02:00', 'page': 8, 'page_label': '9', 'producer': 'Adobe PDF Library 7.0', 'source': 'E:\\\\Generative AI_LLMS\\\\LangChain\\\\RAG\\\\RAG_From_Scratch\\\\Adaptive_RAG\\\\Data\\\\istanbul-city-guide.pdf', 'total_pages': 30, 'trapped': '/False'}, page_content='The Big Sights\\nThe top 5 are all in Sultanahmet –  the ancient \\nquarter of Istanbul.\\nAya Sofya – (also known as Hagia Sophia    \\n- The Church of the Divine Wisdom)  \\nThis  originally Christian basilica, is Istanbul’s \\nfinest site.  Vast interior, stunning mosaics\\nand a towering dome.  The present building \\nis the third to stand on the site.  The first was \\nbuilt in AD360 during the reign of Constantius,\\nmany times until this final structure was completed in 537.  For a thousand years \\nthis was the largest building in the world.  When Ottoman Mehmet II conquered \\nthe city in 1453 his first act was to declare Aya Sofya a mosque.  Apart from \\nremoving some of the marble crosses and whitewashing the mosaic icons he left \\nthe church as it was.  The 4 Islamic minarets which now stand at the corners were \\nadded after the Turkish conquest.  In 1935 Aya Sofya was declared a museum \\nand is the most visited site in the country with more than 2 million visitors a year.\\nAya Sofya\\nAya Sofya Mydani\\nSultanahmet\\nTel: (0212) 522 1750\\nOpening: 9am-7.30pm Closed Tue\\nAdmission: Charge\\nTopkapi Palace \\nFor 400 years this pavilion palace was the residence of the Ottoman sultans\\nwho were the most powerful empire rulers in the world. Built by Mehmet the\\nConqueror shortly after his conquest in 1453, both as his command centre and as \\nhis indulgent home.  The Palace is a city within a city consisting of interconnecting \\ncourts and between 5,000 and 7,000 people worked and lived inside to serve the \\nsultan household.  The Harem alone had 300 rooms – just  40 are open to\\nthe public.  \\nTopkapi Palace\\nBab-I Humayun Caddesi\\nGulhane, Sultanahmet\\nTel: (0212) 512 0480\\nwww.topkapisarayi.gov.tr\\nOpening: 9am -7pm closed Tue\\nAdmission: Charge\\n9'),\n",
       " Document(metadata={'creationdate': '2008-11-21T14:19:15+00:00', 'creator': 'Adobe InDesign CS2 (4.0)', 'moddate': '2016-02-08T11:59:25+02:00', 'page': 8, 'page_label': '9', 'producer': 'Adobe PDF Library 7.0', 'source': 'E:\\\\Generative AI_LLMS\\\\LangChain\\\\RAG\\\\RAG_From_Scratch\\\\Adaptive_RAG\\\\Data\\\\istanbul-city-guide.pdf', 'total_pages': 30, 'trapped': '/False'}, page_content='The Big Sights\\nThe top 5 are all in Sultanahmet –  the ancient \\nquarter of Istanbul.\\nAya Sofya – (also known as Hagia Sophia    \\n- The Church of the Divine Wisdom)  \\nThis  originally Christian basilica, is Istanbul’s \\nfinest site.  Vast interior, stunning mosaics\\nand a towering dome.  The present building \\nis the third to stand on the site.  The first was \\nbuilt in AD360 during the reign of Constantius,\\nmany times until this final structure was completed in 537.  For a thousand years \\nthis was the largest building in the world.  When Ottoman Mehmet II conquered \\nthe city in 1453 his first act was to declare Aya Sofya a mosque.  Apart from \\nremoving some of the marble crosses and whitewashing the mosaic icons he left \\nthe church as it was.  The 4 Islamic minarets which now stand at the corners were \\nadded after the Turkish conquest.  In 1935 Aya Sofya was declared a museum \\nand is the most visited site in the country with more than 2 million visitors a year.\\nAya Sofya\\nAya Sofya Mydani\\nSultanahmet\\nTel: (0212) 522 1750\\nOpening: 9am-7.30pm Closed Tue\\nAdmission: Charge\\nTopkapi Palace \\nFor 400 years this pavilion palace was the residence of the Ottoman sultans\\nwho were the most powerful empire rulers in the world. Built by Mehmet the\\nConqueror shortly after his conquest in 1453, both as his command centre and as \\nhis indulgent home.  The Palace is a city within a city consisting of interconnecting \\ncourts and between 5,000 and 7,000 people worked and lived inside to serve the \\nsultan household.  The Harem alone had 300 rooms – just  40 are open to\\nthe public.  \\nTopkapi Palace\\nBab-I Humayun Caddesi\\nGulhane, Sultanahmet\\nTel: (0212) 512 0480\\nwww.topkapisarayi.gov.tr\\nOpening: 9am -7pm closed Tue\\nAdmission: Charge\\n9'),\n",
       " Document(metadata={'creationdate': '2008-11-21T14:19:15+00:00', 'creator': 'Adobe InDesign CS2 (4.0)', 'moddate': '2016-02-08T11:59:25+02:00', 'page': 8, 'page_label': '9', 'producer': 'Adobe PDF Library 7.0', 'source': 'E:\\\\Generative AI_LLMS\\\\LangChain\\\\RAG\\\\RAG_From_Scratch\\\\Adaptive_RAG\\\\Data\\\\istanbul-city-guide.pdf', 'total_pages': 30, 'trapped': '/False'}, page_content='The Big Sights\\nThe top 5 are all in Sultanahmet –  the ancient \\nquarter of Istanbul.\\nAya Sofya – (also known as Hagia Sophia    \\n- The Church of the Divine Wisdom)  \\nThis  originally Christian basilica, is Istanbul’s \\nfinest site.  Vast interior, stunning mosaics\\nand a towering dome.  The present building \\nis the third to stand on the site.  The first was \\nbuilt in AD360 during the reign of Constantius,\\nmany times until this final structure was completed in 537.  For a thousand years \\nthis was the largest building in the world.  When Ottoman Mehmet II conquered \\nthe city in 1453 his first act was to declare Aya Sofya a mosque.  Apart from \\nremoving some of the marble crosses and whitewashing the mosaic icons he left \\nthe church as it was.  The 4 Islamic minarets which now stand at the corners were \\nadded after the Turkish conquest.  In 1935 Aya Sofya was declared a museum \\nand is the most visited site in the country with more than 2 million visitors a year.\\nAya Sofya\\nAya Sofya Mydani\\nSultanahmet\\nTel: (0212) 522 1750\\nOpening: 9am-7.30pm Closed Tue\\nAdmission: Charge\\nTopkapi Palace \\nFor 400 years this pavilion palace was the residence of the Ottoman sultans\\nwho were the most powerful empire rulers in the world. Built by Mehmet the\\nConqueror shortly after his conquest in 1453, both as his command centre and as \\nhis indulgent home.  The Palace is a city within a city consisting of interconnecting \\ncourts and between 5,000 and 7,000 people worked and lived inside to serve the \\nsultan household.  The Harem alone had 300 rooms – just  40 are open to\\nthe public.  \\nTopkapi Palace\\nBab-I Humayun Caddesi\\nGulhane, Sultanahmet\\nTel: (0212) 512 0480\\nwww.topkapisarayi.gov.tr\\nOpening: 9am -7pm closed Tue\\nAdmission: Charge\\n9'),\n",
       " Document(metadata={'creationdate': '2008-11-21T14:19:15+00:00', 'creator': 'Adobe InDesign CS2 (4.0)', 'moddate': '2016-02-08T11:59:25+02:00', 'page': 8, 'page_label': '9', 'producer': 'Adobe PDF Library 7.0', 'source': 'E:\\\\Generative AI_LLMS\\\\LangChain\\\\RAG\\\\RAG_From_Scratch\\\\Adaptive_RAG\\\\Data\\\\istanbul-city-guide.pdf', 'total_pages': 30, 'trapped': '/False'}, page_content='The Big Sights\\nThe top 5 are all in Sultanahmet –  the ancient \\nquarter of Istanbul.\\nAya Sofya – (also known as Hagia Sophia    \\n- The Church of the Divine Wisdom)  \\nThis  originally Christian basilica, is Istanbul’s \\nfinest site.  Vast interior, stunning mosaics\\nand a towering dome.  The present building \\nis the third to stand on the site.  The first was \\nbuilt in AD360 during the reign of Constantius,\\nmany times until this final structure was completed in 537.  For a thousand years \\nthis was the largest building in the world.  When Ottoman Mehmet II conquered \\nthe city in 1453 his first act was to declare Aya Sofya a mosque.  Apart from \\nremoving some of the marble crosses and whitewashing the mosaic icons he left \\nthe church as it was.  The 4 Islamic minarets which now stand at the corners were \\nadded after the Turkish conquest.  In 1935 Aya Sofya was declared a museum \\nand is the most visited site in the country with more than 2 million visitors a year.\\nAya Sofya\\nAya Sofya Mydani\\nSultanahmet\\nTel: (0212) 522 1750\\nOpening: 9am-7.30pm Closed Tue\\nAdmission: Charge\\nTopkapi Palace \\nFor 400 years this pavilion palace was the residence of the Ottoman sultans\\nwho were the most powerful empire rulers in the world. Built by Mehmet the\\nConqueror shortly after his conquest in 1453, both as his command centre and as \\nhis indulgent home.  The Palace is a city within a city consisting of interconnecting \\ncourts and between 5,000 and 7,000 people worked and lived inside to serve the \\nsultan household.  The Harem alone had 300 rooms – just  40 are open to\\nthe public.  \\nTopkapi Palace\\nBab-I Humayun Caddesi\\nGulhane, Sultanahmet\\nTel: (0212) 512 0480\\nwww.topkapisarayi.gov.tr\\nOpening: 9am -7pm closed Tue\\nAdmission: Charge\\n9'),\n",
       " Document(metadata={'creationdate': '2008-11-21T14:19:15+00:00', 'creator': 'Adobe InDesign CS2 (4.0)', 'moddate': '2016-02-08T11:59:25+02:00', 'page': 8, 'page_label': '9', 'producer': 'Adobe PDF Library 7.0', 'source': 'E:\\\\Generative AI_LLMS\\\\LangChain\\\\RAG\\\\RAG_From_Scratch\\\\Adaptive_RAG\\\\Data\\\\istanbul-city-guide.pdf', 'total_pages': 30, 'trapped': '/False'}, page_content='The Big Sights\\nThe top 5 are all in Sultanahmet –  the ancient \\nquarter of Istanbul.\\nAya Sofya – (also known as Hagia Sophia    \\n- The Church of the Divine Wisdom)  \\nThis  originally Christian basilica, is Istanbul’s \\nfinest site.  Vast interior, stunning mosaics\\nand a towering dome.  The present building \\nis the third to stand on the site.  The first was \\nbuilt in AD360 during the reign of Constantius,\\nmany times until this final structure was completed in 537.  For a thousand years \\nthis was the largest building in the world.  When Ottoman Mehmet II conquered \\nthe city in 1453 his first act was to declare Aya Sofya a mosque.  Apart from \\nremoving some of the marble crosses and whitewashing the mosaic icons he left \\nthe church as it was.  The 4 Islamic minarets which now stand at the corners were \\nadded after the Turkish conquest.  In 1935 Aya Sofya was declared a museum \\nand is the most visited site in the country with more than 2 million visitors a year.\\nAya Sofya\\nAya Sofya Mydani\\nSultanahmet\\nTel: (0212) 522 1750\\nOpening: 9am-7.30pm Closed Tue\\nAdmission: Charge\\nTopkapi Palace \\nFor 400 years this pavilion palace was the residence of the Ottoman sultans\\nwho were the most powerful empire rulers in the world. Built by Mehmet the\\nConqueror shortly after his conquest in 1453, both as his command centre and as \\nhis indulgent home.  The Palace is a city within a city consisting of interconnecting \\ncourts and between 5,000 and 7,000 people worked and lived inside to serve the \\nsultan household.  The Harem alone had 300 rooms – just  40 are open to\\nthe public.  \\nTopkapi Palace\\nBab-I Humayun Caddesi\\nGulhane, Sultanahmet\\nTel: (0212) 512 0480\\nwww.topkapisarayi.gov.tr\\nOpening: 9am -7pm closed Tue\\nAdmission: Charge\\n9'),\n",
       " Document(metadata={'creationdate': '2008-11-21T14:19:15+00:00', 'creator': 'Adobe InDesign CS2 (4.0)', 'moddate': '2016-02-08T11:59:25+02:00', 'page': 8, 'page_label': '9', 'producer': 'Adobe PDF Library 7.0', 'source': 'E:\\\\Generative AI_LLMS\\\\LangChain\\\\RAG\\\\RAG_From_Scratch\\\\Adaptive_RAG\\\\Data\\\\istanbul-city-guide.pdf', 'total_pages': 30, 'trapped': '/False'}, page_content='The Big Sights\\nThe top 5 are all in Sultanahmet –  the ancient \\nquarter of Istanbul.\\nAya Sofya – (also known as Hagia Sophia    \\n- The Church of the Divine Wisdom)  \\nThis  originally Christian basilica, is Istanbul’s \\nfinest site.  Vast interior, stunning mosaics\\nand a towering dome.  The present building \\nis the third to stand on the site.  The first was \\nbuilt in AD360 during the reign of Constantius,\\nmany times until this final structure was completed in 537.  For a thousand years \\nthis was the largest building in the world.  When Ottoman Mehmet II conquered \\nthe city in 1453 his first act was to declare Aya Sofya a mosque.  Apart from \\nremoving some of the marble crosses and whitewashing the mosaic icons he left \\nthe church as it was.  The 4 Islamic minarets which now stand at the corners were \\nadded after the Turkish conquest.  In 1935 Aya Sofya was declared a museum \\nand is the most visited site in the country with more than 2 million visitors a year.\\nAya Sofya\\nAya Sofya Mydani\\nSultanahmet\\nTel: (0212) 522 1750\\nOpening: 9am-7.30pm Closed Tue\\nAdmission: Charge\\nTopkapi Palace \\nFor 400 years this pavilion palace was the residence of the Ottoman sultans\\nwho were the most powerful empire rulers in the world. Built by Mehmet the\\nConqueror shortly after his conquest in 1453, both as his command centre and as \\nhis indulgent home.  The Palace is a city within a city consisting of interconnecting \\ncourts and between 5,000 and 7,000 people worked and lived inside to serve the \\nsultan household.  The Harem alone had 300 rooms – just  40 are open to\\nthe public.  \\nTopkapi Palace\\nBab-I Humayun Caddesi\\nGulhane, Sultanahmet\\nTel: (0212) 512 0480\\nwww.topkapisarayi.gov.tr\\nOpening: 9am -7pm closed Tue\\nAdmission: Charge\\n9'),\n",
       " Document(metadata={'creationdate': '2008-11-21T14:19:15+00:00', 'creator': 'Adobe InDesign CS2 (4.0)', 'moddate': '2016-02-08T11:59:25+02:00', 'page': 8, 'page_label': '9', 'producer': 'Adobe PDF Library 7.0', 'source': 'E:\\\\Generative AI_LLMS\\\\LangChain\\\\RAG\\\\RAG_From_Scratch\\\\Adaptive_RAG\\\\Data\\\\istanbul-city-guide.pdf', 'total_pages': 30, 'trapped': '/False'}, page_content='The Big Sights\\nThe top 5 are all in Sultanahmet –  the ancient \\nquarter of Istanbul.\\nAya Sofya – (also known as Hagia Sophia    \\n- The Church of the Divine Wisdom)  \\nThis  originally Christian basilica, is Istanbul’s \\nfinest site.  Vast interior, stunning mosaics\\nand a towering dome.  The present building \\nis the third to stand on the site.  The first was \\nbuilt in AD360 during the reign of Constantius,\\nmany times until this final structure was completed in 537.  For a thousand years \\nthis was the largest building in the world.  When Ottoman Mehmet II conquered \\nthe city in 1453 his first act was to declare Aya Sofya a mosque.  Apart from \\nremoving some of the marble crosses and whitewashing the mosaic icons he left \\nthe church as it was.  The 4 Islamic minarets which now stand at the corners were \\nadded after the Turkish conquest.  In 1935 Aya Sofya was declared a museum \\nand is the most visited site in the country with more than 2 million visitors a year.\\nAya Sofya\\nAya Sofya Mydani\\nSultanahmet\\nTel: (0212) 522 1750\\nOpening: 9am-7.30pm Closed Tue\\nAdmission: Charge\\nTopkapi Palace \\nFor 400 years this pavilion palace was the residence of the Ottoman sultans\\nwho were the most powerful empire rulers in the world. Built by Mehmet the\\nConqueror shortly after his conquest in 1453, both as his command centre and as \\nhis indulgent home.  The Palace is a city within a city consisting of interconnecting \\ncourts and between 5,000 and 7,000 people worked and lived inside to serve the \\nsultan household.  The Harem alone had 300 rooms – just  40 are open to\\nthe public.  \\nTopkapi Palace\\nBab-I Humayun Caddesi\\nGulhane, Sultanahmet\\nTel: (0212) 512 0480\\nwww.topkapisarayi.gov.tr\\nOpening: 9am -7pm closed Tue\\nAdmission: Charge\\n9'),\n",
       " Document(metadata={'creationdate': '2008-11-21T14:19:15+00:00', 'creator': 'Adobe InDesign CS2 (4.0)', 'moddate': '2016-02-08T11:59:25+02:00', 'page': 8, 'page_label': '9', 'producer': 'Adobe PDF Library 7.0', 'source': 'E:\\\\Generative AI_LLMS\\\\LangChain\\\\RAG\\\\RAG_From_Scratch\\\\Adaptive_RAG\\\\Data\\\\istanbul-city-guide.pdf', 'total_pages': 30, 'trapped': '/False'}, page_content='The Big Sights\\nThe top 5 are all in Sultanahmet –  the ancient \\nquarter of Istanbul.\\nAya Sofya – (also known as Hagia Sophia    \\n- The Church of the Divine Wisdom)  \\nThis  originally Christian basilica, is Istanbul’s \\nfinest site.  Vast interior, stunning mosaics\\nand a towering dome.  The present building \\nis the third to stand on the site.  The first was \\nbuilt in AD360 during the reign of Constantius,\\nmany times until this final structure was completed in 537.  For a thousand years \\nthis was the largest building in the world.  When Ottoman Mehmet II conquered \\nthe city in 1453 his first act was to declare Aya Sofya a mosque.  Apart from \\nremoving some of the marble crosses and whitewashing the mosaic icons he left \\nthe church as it was.  The 4 Islamic minarets which now stand at the corners were \\nadded after the Turkish conquest.  In 1935 Aya Sofya was declared a museum \\nand is the most visited site in the country with more than 2 million visitors a year.\\nAya Sofya\\nAya Sofya Mydani\\nSultanahmet\\nTel: (0212) 522 1750\\nOpening: 9am-7.30pm Closed Tue\\nAdmission: Charge\\nTopkapi Palace \\nFor 400 years this pavilion palace was the residence of the Ottoman sultans\\nwho were the most powerful empire rulers in the world. Built by Mehmet the\\nConqueror shortly after his conquest in 1453, both as his command centre and as \\nhis indulgent home.  The Palace is a city within a city consisting of interconnecting \\ncourts and between 5,000 and 7,000 people worked and lived inside to serve the \\nsultan household.  The Harem alone had 300 rooms – just  40 are open to\\nthe public.  \\nTopkapi Palace\\nBab-I Humayun Caddesi\\nGulhane, Sultanahmet\\nTel: (0212) 512 0480\\nwww.topkapisarayi.gov.tr\\nOpening: 9am -7pm closed Tue\\nAdmission: Charge\\n9'),\n",
       " Document(metadata={'creationdate': '2008-11-21T14:19:15+00:00', 'creator': 'Adobe InDesign CS2 (4.0)', 'moddate': '2016-02-08T11:59:25+02:00', 'page': 8, 'page_label': '9', 'producer': 'Adobe PDF Library 7.0', 'source': 'E:\\\\Generative AI_LLMS\\\\LangChain\\\\RAG\\\\RAG_From_Scratch\\\\Adaptive_RAG\\\\Data\\\\istanbul-city-guide.pdf', 'total_pages': 30, 'trapped': '/False'}, page_content='The Big Sights\\nThe top 5 are all in Sultanahmet –  the ancient \\nquarter of Istanbul.\\nAya Sofya – (also known as Hagia Sophia    \\n- The Church of the Divine Wisdom)  \\nThis  originally Christian basilica, is Istanbul’s \\nfinest site.  Vast interior, stunning mosaics\\nand a towering dome.  The present building \\nis the third to stand on the site.  The first was \\nbuilt in AD360 during the reign of Constantius,\\nmany times until this final structure was completed in 537.  For a thousand years \\nthis was the largest building in the world.  When Ottoman Mehmet II conquered \\nthe city in 1453 his first act was to declare Aya Sofya a mosque.  Apart from \\nremoving some of the marble crosses and whitewashing the mosaic icons he left \\nthe church as it was.  The 4 Islamic minarets which now stand at the corners were \\nadded after the Turkish conquest.  In 1935 Aya Sofya was declared a museum \\nand is the most visited site in the country with more than 2 million visitors a year.\\nAya Sofya\\nAya Sofya Mydani\\nSultanahmet\\nTel: (0212) 522 1750\\nOpening: 9am-7.30pm Closed Tue\\nAdmission: Charge\\nTopkapi Palace \\nFor 400 years this pavilion palace was the residence of the Ottoman sultans\\nwho were the most powerful empire rulers in the world. Built by Mehmet the\\nConqueror shortly after his conquest in 1453, both as his command centre and as \\nhis indulgent home.  The Palace is a city within a city consisting of interconnecting \\ncourts and between 5,000 and 7,000 people worked and lived inside to serve the \\nsultan household.  The Harem alone had 300 rooms – just  40 are open to\\nthe public.  \\nTopkapi Palace\\nBab-I Humayun Caddesi\\nGulhane, Sultanahmet\\nTel: (0212) 512 0480\\nwww.topkapisarayi.gov.tr\\nOpening: 9am -7pm closed Tue\\nAdmission: Charge\\n9'),\n",
       " Document(metadata={'creationdate': '2008-11-21T14:19:15+00:00', 'creator': 'Adobe InDesign CS2 (4.0)', 'moddate': '2016-02-08T11:59:25+02:00', 'page': 8, 'page_label': '9', 'producer': 'Adobe PDF Library 7.0', 'source': 'E:\\\\Generative AI_LLMS\\\\LangChain\\\\RAG\\\\RAG_From_Scratch\\\\Adaptive_RAG\\\\Data\\\\istanbul-city-guide.pdf', 'total_pages': 30, 'trapped': '/False'}, page_content='The Big Sights\\nThe top 5 are all in Sultanahmet –  the ancient \\nquarter of Istanbul.\\nAya Sofya – (also known as Hagia Sophia    \\n- The Church of the Divine Wisdom)  \\nThis  originally Christian basilica, is Istanbul’s \\nfinest site.  Vast interior, stunning mosaics\\nand a towering dome.  The present building \\nis the third to stand on the site.  The first was \\nbuilt in AD360 during the reign of Constantius,\\nmany times until this final structure was completed in 537.  For a thousand years \\nthis was the largest building in the world.  When Ottoman Mehmet II conquered \\nthe city in 1453 his first act was to declare Aya Sofya a mosque.  Apart from \\nremoving some of the marble crosses and whitewashing the mosaic icons he left \\nthe church as it was.  The 4 Islamic minarets which now stand at the corners were \\nadded after the Turkish conquest.  In 1935 Aya Sofya was declared a museum \\nand is the most visited site in the country with more than 2 million visitors a year.\\nAya Sofya\\nAya Sofya Mydani\\nSultanahmet\\nTel: (0212) 522 1750\\nOpening: 9am-7.30pm Closed Tue\\nAdmission: Charge\\nTopkapi Palace \\nFor 400 years this pavilion palace was the residence of the Ottoman sultans\\nwho were the most powerful empire rulers in the world. Built by Mehmet the\\nConqueror shortly after his conquest in 1453, both as his command centre and as \\nhis indulgent home.  The Palace is a city within a city consisting of interconnecting \\ncourts and between 5,000 and 7,000 people worked and lived inside to serve the \\nsultan household.  The Harem alone had 300 rooms – just  40 are open to\\nthe public.  \\nTopkapi Palace\\nBab-I Humayun Caddesi\\nGulhane, Sultanahmet\\nTel: (0212) 512 0480\\nwww.topkapisarayi.gov.tr\\nOpening: 9am -7pm closed Tue\\nAdmission: Charge\\n9')]"
      ]
     },
     "execution_count": 4,
     "metadata": {},
     "output_type": "execute_result"
    }
   ],
   "source": [
    "# # Retriever\n",
    "retriever = vectorstore.as_retriever(search_type=\"similarity\", search_kwargs={\"k\": 10})\n",
    "retriever.invoke(\"Hagia Sophia\")"
   ]
  },
  {
   "cell_type": "markdown",
   "metadata": {},
   "source": [
    "### LLMS"
   ]
  },
  {
   "cell_type": "code",
   "execution_count": 5,
   "metadata": {},
   "outputs": [
    {
     "name": "stdout",
     "output_type": "stream",
     "text": [
      "datasource='web_search'\n"
     ]
    }
   ],
   "source": [
    "# router\n",
    "from typing import Literal\n",
    "from pydantic import BaseModel,Field\n",
    "from langchain_groq import ChatGroq\n",
    "from langchain_core.prompts import ChatPromptTemplate\n",
    "\n",
    "llm = ChatGroq(model ='gemma2-9b-it',groq_api_key =groq_api_key)\n",
    "\n",
    "class RoutQuery(BaseModel):\n",
    "    datasource:Literal['vectorstore','web_search']=Field(\n",
    "        description ='Given a user question choose to route it to vectorstore or web_search'\n",
    "    )\n",
    "\n",
    "structured_llm_router =llm.with_structured_output(RoutQuery)\n",
    "\n",
    "system = '''You are an expert in routing queries to the appropriate source.\n",
    "The vectorstore contains documents related to the **Istanbul Guide**, covering topics such as history, neighborhoods, landmarks, tourism, entertainment, transportation, shopping, and dining.\n",
    "Use the vectorstore for questions related to the **Istanbul Guide**; otherwise, use web_search.'''\n",
    "\n",
    "\n",
    "\n",
    "rout_prompt =ChatPromptTemplate.from_messages(\n",
    "    [\n",
    "        ('system',system),\n",
    "        ('human','{question}')\n",
    "    ]\n",
    ")\n",
    "\n",
    "question_router_chain = rout_prompt | structured_llm_router\n",
    "\n",
    "print(question_router_chain.invoke({'question':\"What percentage of customers are female vs. male?\"}))\n",
    "# print(question_router_chain.invoke({'question':\" \"}))"
   ]
  },
  {
   "cell_type": "markdown",
   "metadata": {},
   "source": [
    "## Retrival Grader"
   ]
  },
  {
   "cell_type": "code",
   "execution_count": 6,
   "metadata": {},
   "outputs": [
    {
     "name": "stdout",
     "output_type": "stream",
     "text": [
      "binary_score='yes'\n"
     ]
    }
   ],
   "source": [
    "class GradDocument(BaseModel):\n",
    "    binary_score:str =Field(\n",
    "        description =\"Document are relevant to question ,'yes' or 'No'\"\n",
    "    )\n",
    "\n",
    "structured_llm_grader =llm.with_structured_output(GradDocument)\n",
    "\n",
    "# Prompt\n",
    "system = \"\"\"You are a grader assessing relevance of a retrieved document to a user question. \\n \n",
    "    If the document contains keyword(s) or semantic meaning related to the user question, grade it as relevant. \\n\n",
    "    It does not need to be a stringent test. The goal is to filter out erroneous retrievals. \\n\n",
    "    Give a binary score 'yes' or 'no' score to indicate whether the document is relevant to the question.\"\"\"\n",
    "\n",
    "prompt_grader =ChatPromptTemplate.from_messages([\n",
    "    ('system',system),\n",
    "    ('human','retrived document {document} \\n\\n user question:{question}')\n",
    "])\n",
    "\n",
    "retrival_grader  = prompt_grader | structured_llm_grader\n",
    "\n",
    "question =\"what is the available products?\"\n",
    "docs =retriever.invoke(question)\n",
    "doc_text =docs[1].page_content\n",
    "print(retrival_grader.invoke({'document':doc_text,'question':question}))"
   ]
  },
  {
   "cell_type": "markdown",
   "metadata": {},
   "source": [
    "### Generate"
   ]
  },
  {
   "cell_type": "code",
   "execution_count": 7,
   "metadata": {},
   "outputs": [
    {
     "name": "stdout",
     "output_type": "stream",
     "text": [
      "The available products are sporty lines and denim.  \n",
      "\n"
     ]
    }
   ],
   "source": [
    "from langchain_core.prompts import ChatPromptTemplate  \n",
    "from langchain_core.output_parsers import StrOutputParser\n",
    "from langchain.chat_models import ChatOpenAI\n",
    "from langchain import hub\n",
    "from langdetect import detect  # Import detect function\n",
    "\n",
    " \n",
    "\n",
    "generate_prompt = hub.pull('rlm/rag-prompt')\n",
    "\n",
    "rag_chain = (\n",
    "    generate_prompt\n",
    "    | llm\n",
    "    | StrOutputParser()\n",
    ")\n",
    "generation = rag_chain.invoke({'context': docs, 'question': question})\n",
    "print(generation)\n"
   ]
  },
  {
   "cell_type": "markdown",
   "metadata": {},
   "source": [
    "### Grad Hallucination"
   ]
  },
  {
   "cell_type": "code",
   "execution_count": 8,
   "metadata": {},
   "outputs": [
    {
     "name": "stdout",
     "output_type": "stream",
     "text": [
      "binary_score='yes'\n"
     ]
    }
   ],
   "source": [
    "class GradHallucination(BaseModel):\n",
    "    binary_score:str =Field(\n",
    "        description =\"Answer is grounded in facts ,'yes' or 'no'\"\n",
    "    )\n",
    "\n",
    "structured_llm_grader_H =llm.with_structured_output(GradHallucination)\n",
    "\n",
    "# prompt \n",
    "system = \"\"\"You are a grader assessing whether an LLM generation is grounded in / supported by a set of retrieved facts. \\n \n",
    "     Give a binary score 'yes' or 'no'. 'Yes' means that the answer is grounded in / supported by the set of facts.\"\"\"\n",
    "\n",
    "prompt =ChatPromptTemplate.from_messages(\n",
    "    [\n",
    "        ('system',system),\n",
    "        ('human','set of facts {documents} \\n\\n llm generation {generation}')\n",
    "    ]\n",
    ")\n",
    "\n",
    "hallucination_grader_chain =prompt | structured_llm_grader_H \n",
    "\n",
    "print(hallucination_grader_chain.invoke({'documents':docs,'generation':generation}))"
   ]
  },
  {
   "cell_type": "markdown",
   "metadata": {},
   "source": [
    "### Answer Grader"
   ]
  },
  {
   "cell_type": "code",
   "execution_count": 9,
   "metadata": {},
   "outputs": [
    {
     "name": "stdout",
     "output_type": "stream",
     "text": [
      "binary_score='yes'\n"
     ]
    }
   ],
   "source": [
    "class GradAnswer(BaseModel):\n",
    "    binary_score:str =Field(\n",
    "        description =\"Answer address question,'yes' or 'no'\"\n",
    "    )\n",
    "\n",
    "structured_llm_grader_Ans =llm.with_structured_output(GradAnswer)\n",
    "\n",
    "# Prompt\n",
    "system = \"\"\"You are a grader assessing whether an answer addresses / resolves a question \\n \n",
    "     Give a binary score 'yes' or 'no'. Yes' means that the answer resolves the question.\"\"\"\n",
    "\n",
    "prompt_answer_grader =ChatPromptTemplate.from_messages(\n",
    "    [\n",
    "        ('system',system),\n",
    "        ('human','generation {generation} and question {question}')\n",
    "    ]\n",
    ")\n",
    "\n",
    "answer_grader_chain =prompt_answer_grader| structured_llm_grader_Ans\n",
    "\n",
    "print(answer_grader_chain.invoke({'generation':generation,'question':question}))"
   ]
  },
  {
   "cell_type": "markdown",
   "metadata": {},
   "source": [
    "## Question Rewrite "
   ]
  },
  {
   "cell_type": "code",
   "execution_count": 10,
   "metadata": {},
   "outputs": [
    {
     "name": "stdout",
     "output_type": "stream",
     "text": [
      "What is the gender distribution of customers? \n",
      "\n"
     ]
    }
   ],
   "source": [
    "# Prompt\n",
    "system = \"\"\"You a question re-writer that converts an input question to a better version that is optimized \\n \n",
    "     for vectorstore retrieval. Look at the input and try to reason about the underlying semantic intent / meaning.\n",
    "     Return only the improved question without any additional text or explanation.\"\"\"\n",
    "re_write_prompt = ChatPromptTemplate.from_messages(\n",
    "    [\n",
    "        (\"system\", system),\n",
    "        (\n",
    "            \"human\",\n",
    "            \"Here is the initial question: \\n\\n {question} \\n Formulate an improved question.\",\n",
    "        ),\n",
    "    ]\n",
    ")\n",
    "\n",
    "question_rewirter =re_write_prompt | llm | StrOutputParser()\n",
    "\n",
    "print(question_rewirter.invoke({'question':'What percentage of customers are female vs. male?'}))"
   ]
  },
  {
   "cell_type": "markdown",
   "metadata": {},
   "source": [
    "### Web Search Tool"
   ]
  },
  {
   "cell_type": "code",
   "execution_count": 41,
   "metadata": {},
   "outputs": [],
   "source": [
    "from langchain.tools.tavily_search import TavilySearchResults\n",
    "\n",
    "web_search_tool =TavilySearchResults(k=3)"
   ]
  },
  {
   "cell_type": "markdown",
   "metadata": {},
   "source": [
    "### Construct Graph"
   ]
  },
  {
   "cell_type": "code",
   "execution_count": 42,
   "metadata": {},
   "outputs": [],
   "source": [
    "from typing import List\n",
    "from typing_extensions import TypedDict\n",
    "\n",
    "class GraphState(TypedDict):\n",
    "    question:str\n",
    "    documents:List[str]\n",
    "    generation:str"
   ]
  },
  {
   "cell_type": "markdown",
   "metadata": {},
   "source": [
    "### Define GraphFlow"
   ]
  },
  {
   "cell_type": "code",
   "execution_count": 43,
   "metadata": {},
   "outputs": [],
   "source": [
    "from langchain.schema import Document \n",
    "\n",
    "def retriever_fun(state):\n",
    "    print('___Retriever___')\n",
    "    question = state['question']\n",
    "    documents = retriever.invoke(question)\n",
    "\n",
    "    return {'documents': documents, 'question': question}\n",
    "\n",
    "def generate(state):\n",
    "    print('___Generate___')\n",
    "\n",
    "    question = state['question']\n",
    "    documents = state['documents']\n",
    "    generation = rag_chain.invoke({'context': documents, 'question': question})\n",
    "\n",
    "    return {'documents': documents, 'question': question, 'generation': generation}\n",
    "\n",
    "def grade_documents(state):\n",
    "    print('___Check if document is relevant to question or not____')\n",
    "    \n",
    "    question = state['question']\n",
    "    documents = state['documents']\n",
    "    \n",
    "    filtered_docs = []\n",
    "\n",
    "    for doc in documents:\n",
    "        score = retrival_grader.invoke({'document': doc, 'question': question})\n",
    "        grade = score.binary_score\n",
    "\n",
    "        if grade == 'yes':\n",
    "            print('___Document is relevant')\n",
    "            filtered_docs.append(doc)\n",
    "        else:\n",
    "            print('__Document is not relevant')\n",
    "\n",
    "    return {'documents': filtered_docs, 'question': question}\n",
    "\n",
    "def transform_query(state):\n",
    "    print('___Rewrite Query___')\n",
    "    question = state['question']\n",
    "    documents = state['documents']\n",
    "    \n",
    "    better_question = question_rewirter.invoke({'question': question})\n",
    "    \n",
    "    return {'documents': documents, 'question': better_question}\n",
    "\n",
    "def web_search(state):\n",
    "    print('__Web Search__')\n",
    "    question = state['question']\n",
    "\n",
    "    # Web search\n",
    "    docs = web_search_tool.invoke({\"query\": question})\n",
    "    web_results = \"\\n\".join([d[\"content\"] for d in docs])\n",
    "    web_results = Document(page_content=web_results)\n",
    "\n",
    "    print(web_results)\n",
    "\n",
    "    return {\"documents\": [web_results], \"question\": question}\n",
    "\n",
    "# Edges \n",
    "def RouteQuestion(state):\n",
    "    '''Route question for web search or RAG'''\n",
    "    print('__Route Question__')\n",
    "    \n",
    "    question = state['question']\n",
    "    source = question_router_chain.invoke({'question': question})\n",
    "\n",
    "    if source.datasource == 'web_search':\n",
    "        print('Route question to web search')\n",
    "        return 'websearch'\n",
    "\n",
    "    elif source.datasource == 'vectorstore':\n",
    "        print('Route question to vectorstore')\n",
    "        return 'vectorstore'      \n",
    "\n",
    "def Decide_to_generate(state):\n",
    "    print('__Decide to generate or rewrite query__')\n",
    "\n",
    "    question = state['question']\n",
    "    filtered_docs = state['documents']\n",
    "\n",
    "    if not filtered_docs:\n",
    "        print('__All documents are not relevant, transforming query__')\n",
    "        return 'transform_query'\n",
    "    else:\n",
    "        print('Decision: Generate')\n",
    "        return 'generate'\n",
    "\n",
    "def grade_generation_v_document_question(state):\n",
    "    '''Determine if the generation is grounded in the document and if it answers the question'''\n",
    "    \n",
    "    print('__Check Hallucination__')\n",
    "\n",
    "    question = state['question']\n",
    "    documents = state['documents']\n",
    "    generation = state['generation']\n",
    "\n",
    "    score = hallucination_grader_chain.invoke({'documents': documents, 'generation': generation})  \n",
    "    grade = score.binary_score\n",
    "\n",
    "    if grade == 'no':\n",
    "        print('__Generation is grounded in document__')\n",
    "\n",
    "        # Check if the generation answers the question\n",
    "        score = answer_grader_chain.invoke({'question': question, 'generation': generation})\n",
    "        grade = score.binary_score\n",
    "\n",
    "        if grade == 'yes':\n",
    "            print('Generation addresses the question')\n",
    "            return 'usefull'\n",
    "\n",
    "        else:\n",
    "            print('Generation does not address the question')\n",
    "            return 'not usefull'\n",
    "\n",
    "    else:\n",
    "        print('Generation is not grounded in the document')\n",
    "        return 'not supported'"
   ]
  },
  {
   "cell_type": "markdown",
   "metadata": {},
   "source": [
    "### Compile Graph"
   ]
  },
  {
   "cell_type": "code",
   "execution_count": 44,
   "metadata": {},
   "outputs": [],
   "source": [
    "from langgraph.graph import START,END,StateGraph\n",
    "\n",
    "workflow =StateGraph(GraphState)\n",
    "\n",
    "# Define nodes \n",
    "workflow.add_node('web_search',web_search)\n",
    "workflow.add_node('retriever_fun',retriever_fun)\n",
    "workflow.add_node('generate',generate)\n",
    "workflow.add_node('transform_query',transform_query)\n",
    "workflow.add_node('grade_documents',grade_documents)\n",
    "\n",
    "# build Graph\n",
    "workflow.add_conditional_edges(\n",
    "    START,\n",
    "    RouteQuestion,\n",
    "    {\n",
    "        'websearch':'web_search',\n",
    "        'vectorstore': 'retriever_fun'\n",
    "    })\n",
    "\n",
    "workflow.add_edge('web_search','generate')\n",
    "workflow.add_edge('retriever_fun','grade_documents')\n",
    "workflow.add_conditional_edges('grade_documents',\n",
    "   Decide_to_generate,\n",
    "   {\n",
    "     'transform_query':'transform_query',\n",
    "     'generate':'generate'\n",
    "   } )\n",
    "\n",
    "workflow.add_edge('transform_query','retriever_fun')\n",
    "workflow.add_conditional_edges('generate',\n",
    "grade_generation_v_document_question,\n",
    "{\n",
    "        \"not supported\": \"generate\",\n",
    "        \"usefull\": END,\n",
    "        \"not usefull\": \"transform_query\",\n",
    "}\n",
    ")\n",
    "\n",
    "app =workflow.compile()"
   ]
  },
  {
   "cell_type": "code",
   "execution_count": 45,
   "metadata": {},
   "outputs": [
    {
     "name": "stdout",
     "output_type": "stream",
     "text": [
      "__Route Question__\n",
      "Route question to vectorstore\n",
      "___Retriever___\n",
      "\"Node 'retriever_fun':\"\n",
      "'\\n---\\n'\n",
      "___Check if document is relevant to question or not____\n",
      "__Document is not relevant\n",
      "___Document is relevant\n",
      "___Document is relevant\n",
      "___Document is relevant\n",
      "___Document is relevant\n",
      "___Document is relevant\n",
      "___Document is relevant\n",
      "___Document is relevant\n",
      "___Document is relevant\n",
      "___Document is relevant\n",
      "__Decide to generate or rewrite query__\n",
      "Decision: Generate\n",
      "\"Node 'grade_documents':\"\n",
      "'\\n---\\n'\n",
      "___Generate___\n",
      "__Check Hallucination__\n",
      "__Generation is grounded in document__\n",
      "Generation addresses the question\n",
      "\"Node 'generate':\"\n",
      "'\\n---\\n'\n",
      "('Istanbul offers a variety of fantastic places to visit, including the '\n",
      " 'historic sites in the Sultanahmet district, such as Aya Sofya and Topkapi '\n",
      " 'Palace. Additionally, you can explore the vibrant neighborhoods of Beyoglu '\n",
      " 'and Taksim for shopping and nightlife, or relax at the traditional Turkish '\n",
      " 'baths like Cemberlitas Hamami.')\n"
     ]
    }
   ],
   "source": [
    "from pprint import pprint\n",
    "\n",
    "# Run\n",
    "inputs = {\n",
    "    \"question\":\"I want to visit fantastic places in Istanbul\"\n",
    "}\n",
    "for output in app.stream(inputs):\n",
    "    for key, value in output.items():\n",
    "        # Node\n",
    "        pprint(f\"Node '{key}':\")\n",
    "        # Optional: print full state at each node\n",
    "        # pprint.pprint(value[\"keys\"], indent=2, width=80, depth=None)\n",
    "    pprint(\"\\n---\\n\")\n",
    "\n",
    "# Final generation\n",
    "pprint(value[\"generation\"])"
   ]
  },
  {
   "cell_type": "code",
   "execution_count": 46,
   "metadata": {},
   "outputs": [
    {
     "name": "stdout",
     "output_type": "stream",
     "text": [
      "__Route Question__\n",
      "Route question to vectorstore\n",
      "___Retriever___\n",
      "\"Node 'retriever_fun':\"\n",
      "'\\n---\\n'\n",
      "___Check if document is relevant to question or not____\n",
      "___Document is relevant\n",
      "___Document is relevant\n",
      "___Document is relevant\n",
      "___Document is relevant\n",
      "___Document is relevant\n",
      "__Document is not relevant\n",
      "___Document is relevant\n",
      "___Document is relevant\n",
      "___Document is relevant\n",
      "__Document is not relevant\n",
      "__Decide to generate or rewrite query__\n",
      "Decision: Generate\n",
      "\"Node 'grade_documents':\"\n",
      "'\\n---\\n'\n",
      "___Generate___\n",
      "__Check Hallucination__\n",
      "__Generation is grounded in document__\n",
      "Generation does not address the question\n",
      "\"Node 'generate':\"\n",
      "'\\n---\\n'\n",
      "___Rewrite Query___\n",
      "\"Node 'transform_query':\"\n",
      "'\\n---\\n'\n",
      "___Retriever___\n",
      "\"Node 'retriever_fun':\"\n",
      "'\\n---\\n'\n",
      "___Check if document is relevant to question or not____\n",
      "___Document is relevant\n",
      "___Document is relevant\n",
      "__Document is not relevant\n",
      "__Document is not relevant\n",
      "__Document is not relevant\n",
      "__Document is not relevant\n",
      "__Document is not relevant\n",
      "__Document is not relevant\n",
      "___Document is relevant\n",
      "__Document is not relevant\n",
      "__Decide to generate or rewrite query__\n",
      "Decision: Generate\n",
      "\"Node 'grade_documents':\"\n",
      "'\\n---\\n'\n",
      "___Generate___\n",
      "__Check Hallucination__\n",
      "__Generation is grounded in document__\n",
      "Generation addresses the question\n",
      "\"Node 'generate':\"\n",
      "'\\n---\\n'\n",
      "('Here are the details for the mosques mentioned in the context:\\n'\n",
      " '\\n'\n",
      " '1. **The Blue Mosque**: Built during the reign of Sultan Ahmet (1603 – '\n",
      " '1617), it is famous for its blue Iznik tiles. It has six minarets, which was '\n",
      " 'controversial at the time. It is located at Sultanahmet Camii, At Meydan '\n",
      " 'Sokak 17. It is open daily from 5:30 am to 7 pm, but closed during prayer '\n",
      " 'times. Admission is free, but donations are welcomed.\\n'\n",
      " '\\n'\n",
      " '2. **Suleymaniye Mosque**: Designed by Mimar Sinan and commissioned by '\n",
      " 'Suleyman the Magnificent, it was completed in 1557. It is known for its '\n",
      " 'impressive interior with a vast central dome and tiered domes surrounding '\n",
      " 'it. It stands on the highest hill, dominating the ancient city skyline.')\n"
     ]
    }
   ],
   "source": [
    "# Run\n",
    "inputs = {\"question\": \"tell me details about each Mosques in Istanbul\"}\n",
    "for output in app.stream(inputs):\n",
    "    for key, value in output.items():\n",
    "        # Node\n",
    "        pprint(f\"Node '{key}':\")\n",
    "        # Optional: print full state at each node\n",
    "        # pprint.pprint(value[\"keys\"], indent=2, width=80, depth=None)\n",
    "    pprint(\"\\n---\\n\")\n",
    "\n",
    "# Final generation\n",
    "pprint(value[\"generation\"])"
   ]
  }
 ],
 "metadata": {
  "kernelspec": {
   "display_name": "langchain",
   "language": "python",
   "name": "python3"
  },
  "language_info": {
   "codemirror_mode": {
    "name": "ipython",
    "version": 3
   },
   "file_extension": ".py",
   "mimetype": "text/x-python",
   "name": "python",
   "nbconvert_exporter": "python",
   "pygments_lexer": "ipython3",
   "version": "3.12.5"
  }
 },
 "nbformat": 4,
 "nbformat_minor": 2
}
